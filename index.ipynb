{
 "cells": [
  {
   "cell_type": "markdown",
   "metadata": {},
   "source": [
    "# WFIRST Simulation Tools\n",
    "\n",
    "The WFIRST effort at STScI has produced software tools for use by the scientific community. This repository contains example code and instructions for WebbPSF, the PSF simulator for JWST and WFIRST, as well as Pandeia, the exposure time and signal-to-noise calculator for both missions.\n",
    "\n",
    "## WebbPSF\n",
    "\n",
    "The WFIRST functionality in WebbPSF is summarized on the [STScI WFIRST software page](http://www.stsci.edu/wfirst/software/webbpsf) and in the [WebbPSF documentation](http://pythonhosted.org/webbpsf/wfirst.html).\n",
    "\n",
    "## Pandeia"
   ]
  }
 ],
 "metadata": {
  "kernelspec": {
   "display_name": "Python 3",
   "language": "python",
   "name": "python3"
  },
  "language_info": {
   "codemirror_mode": {
    "name": "ipython",
    "version": 3
   },
   "file_extension": ".py",
   "mimetype": "text/x-python",
   "name": "python",
   "nbconvert_exporter": "python",
   "pygments_lexer": "ipython3",
   "version": "3.6.0"
  }
 },
 "nbformat": 4,
 "nbformat_minor": 2
}
