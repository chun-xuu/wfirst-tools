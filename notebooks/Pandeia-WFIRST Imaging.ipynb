{
 "cells": [
  {
   "cell_type": "markdown",
   "metadata": {},
   "source": [
    "# Pandeia for WFIRST Imaging\n",
    "\n",
    "How to cite this code:\n",
    "\n",
    "> Klaus M. Pontoppidan ; Timothy E. Pickering ; Victoria G. Laidler ; Karoline Gilbert ; Christopher D. Sontag, et al.\n",
    "\"Pandeia: a multi-mission exposure time calculator for JWST and WFIRST\", Proc. SPIE 9910, Observatory Operations: Strategies, Processes, and Systems VI, 991016 (July 15, 2016); doi:10.1117/12.2231768; http://dx.doi.org/10.1117/12.2231768\n",
    "\n",
    "This is an introductory notebook that provides an easy-to-use interface for making Pandeia ETC calculations. This notebook only supports WFIRST imaging and IFU, and has simplified some configuration options.  \n",
    "\n",
    "Refer to the documentation links provided within the *Help* menu for general information on the Jupyter/IPython notebook interface and useful keyboard short-cuts.  The key things you need to know are that you must use ``Shift-Enter`` to execute a cell and that once a cell is executed, all data defined within it becomes available to all other cells. (You can also click the <i class=\"fa-step-forward fa\"></i> icon in the toolbar to run a cell.)\n",
    "\n",
    "This first cell sets up the imports and configuration that are required:  "
   ]
  },
  {
   "cell_type": "code",
   "execution_count": null,
   "metadata": {
    "collapsed": true
   },
   "outputs": [],
   "source": [
    "%matplotlib inline\n",
    "%config InlineBackend.figure_format = 'svg'\n",
    "import sys\n",
    "import os\n",
    "import numpy as np\n",
    "import matplotlib\n",
    "from matplotlib import style\n",
    "#style.use('ggplot')  # see http://matplotlib.org/users/style_sheets.html\n",
    "                     # for info on matplotlib styles\n",
    "import json\n",
    "matplotlib.rcParams['axes.grid'] = False\n",
    "matplotlib.rcParams['image.origin'] = 'lower'\n",
    "import matplotlib.pyplot as plt\n",
    "\n",
    "# the first pandeia import is required to run calculations. the others are provided to\n",
    "# allow setting up calculations and loading/saving of inputs or results.\n",
    "from pandeia.engine.perform_calculation import perform_calculation\n",
    "from pandeia.engine.calc_utils import get_telescope_config, get_instrument_config, build_default_calc, build_default_source\n",
    "from pandeia.engine.io_utils import read_json, write_json"
   ]
  },
  {
   "cell_type": "markdown",
   "metadata": {},
   "source": [
    "To run Pandeia, you must give it a calculation. Calculations are python dictionaries that specify every aspect of the detector configuration, instrument configuration, details of all of the sources in the scene, and observing strategies.\n",
    "\n",
    "Let's break it down."
   ]
  },
  {
   "cell_type": "markdown",
   "metadata": {},
   "source": [
    "# First, we need to create a default calculation. \n",
    "\n",
    "build_default_calc will create a default calculation for a WFIRST instrument, complete with a single faint point source.\n",
    "\n",
    "build_default_calc() takes three arguments: telescope, instrument, mode.\n",
    "Telescope is (obviously) wfirst.\n",
    "Instrument is either wfirstimager or wfirstifu\n",
    "The only mode available for wfirstimager is \"imaging\"; the only mode available for wfirstifu is \"ifu\"."
   ]
  },
  {
   "cell_type": "code",
   "execution_count": null,
   "metadata": {
    "collapsed": true
   },
   "outputs": [],
   "source": [
    "calc = build_default_calc('wfirst','wfirstimager','imaging')"
   ]
  },
  {
   "cell_type": "markdown",
   "metadata": {},
   "source": [
    "This is a complete calculation, so we can run it. Try the following, and if it doesn't work, check your setup."
   ]
  },
  {
   "cell_type": "code",
   "execution_count": null,
   "metadata": {
    "collapsed": true
   },
   "outputs": [],
   "source": [
    "result = perform_calculation(calc)"
   ]
  },
  {
   "cell_type": "markdown",
   "metadata": {},
   "source": [
    "# Now we have a default calculation. Let's customize.\n",
    "\n",
    "The first thing we need to do is customize the scene. The default that's been created for us is a single central point source with a flat spectral energy distribution, normalized to a flux of 0.01 mjy at 2.0 microns, with no redshift or extinction.\n"
   ]
  },
  {
   "cell_type": "code",
   "execution_count": null,
   "metadata": {
    "collapsed": true
   },
   "outputs": [],
   "source": [
    "calc['scene'][0]['spectrum']['normalization']['norm_flux'] = 0.01 # mjy\n",
    "calc['scene'][0]['spectrum']['normalization']['norm_wave'] = 2.0 # microns\n",
    "calc['scene'][0]['spectrum']['normalization']['type'] = \"at_lambda\""
   ]
  },
  {
   "cell_type": "markdown",
   "metadata": {},
   "source": [
    "The type of flux normalization can be changed. Run the cell below to normalize to a bandpass\n",
    "- Valid bandpasses are:\n",
    "   - bessel,J (or H or K)\n",
    "   - cousins,I\n",
    "   - johnson,V (or I, J, K)\n",
    "   - sdss,u (or g, r, i, or z)\n",
    "   - spitzer,irac3.6 (or irac4.5, irac5.8, irac8.0, mips24)\n",
    "- You can also specify 'jwst' or 'hst' instead of 'photsys'; that requires specifying the instrument, mode, and filter though ('hst' and 'wfc3,ir,f140w', or 'jwst' and 'miri,imaging,f1280w'...)\n",
    "   "
   ]
  },
  {
   "cell_type": "code",
   "execution_count": null,
   "metadata": {
    "collapsed": true
   },
   "outputs": [],
   "source": [
    "calc['scene'][0]['spectrum']['normalization']['norm_flux'] = 0.01 # mjy\n",
    "calc['scene'][0]['spectrum']['normalization']['norm_wave'] = 2.0 # microns\n",
    "calc['scene'][0]['spectrum']['normalization']['type'] = \"photsys\"\n",
    "calc['scene'][0]['spectrum']['normalization']['bandpass'] = \"sdss,z\""
   ]
  },
  {
   "cell_type": "markdown",
   "metadata": {},
   "source": [
    "There are also other options for the SED, most notably a simple blackbody curve, or phoenix models, or one of the Brown galaxy spectra.\n",
    "\n",
    "Run one of the following cells if you want to customize your source to a different SED type: "
   ]
  },
  {
   "cell_type": "code",
   "execution_count": null,
   "metadata": {
    "collapsed": true
   },
   "outputs": [],
   "source": [
    "calc['scene'][0]['spectrum']['sed']['sed_type'] = 'blackbody' # shape\n",
    "calc['scene'][0]['spectrum']['sed']['temp'] = 5770.0 # brightness temperature"
   ]
  },
  {
   "cell_type": "code",
   "execution_count": null,
   "metadata": {
    "collapsed": true
   },
   "outputs": [],
   "source": [
    "calc['scene'][0]['spectrum']['sed']['sed_type'] = 'phoenix' # shape\n",
    "calc['scene'][0]['spectrum']['sed']['temp'] = 5770.0 # brightness temperature"
   ]
  },
  {
   "cell_type": "code",
   "execution_count": null,
   "metadata": {
    "collapsed": true
   },
   "outputs": [],
   "source": [
    "calc['scene'][0]['spectrum']['sed']['sed_type'] = 'brown' # shape\n",
    "calc['scene'][0]['spectrum']['sed']['key'] = 'ngc_3521' # galaxy profile"
   ]
  },
  {
   "cell_type": "markdown",
   "metadata": {},
   "source": [
    "We can also change the shape of the source. Valid options are 'point', 'gaussian2d', 'sersic', and 'flat'. \n",
    "\n",
    "'point' is a point source, represented as a simple impulse function to convolve with the PSF.\n",
    "'flat' is an ellipse step function, with a uniform distribution out to the bounding curve.\n",
    "'gaussian2d' is a two-dimensional gaussian function, where major and minor are now the 1-sigma boundaries.\n",
    "'sersic' is NOT the typical sersic formulation from Graham & Driver (1992); it is an e-folding version, defined as $e^{-r(\\frac{1}{index})}$. index=4 is the standard De Vaucoulers profile, index 0.5 is similar to a gaussian, and index=1 is an exponential profile.\n",
    "\n",
    "If you change the shape to gaussian2d, flat, or sersic, you have additional parameters to fill. In particular, there are options to change how you set the source brightness:\n",
    " - 'integ_infinity' Integrates the flux of the entire profile\n",
    " - 'surf_center' Normalizes to the surface brightness at the center of the profile\n",
    " - 'surf_scale' Normalizes to the surface brightness at the scale (e-folding for sersic, 1-sigma for gaussian2d) radius. You cannot choose this for the flat source.\n",
    "If you choose surf_center or surf_scale, you need to specify whether the brightness is per square arcsecond ('arcsec^2') or steradians ('sr')"
   ]
  },
  {
   "cell_type": "code",
   "execution_count": null,
   "metadata": {
    "collapsed": true
   },
   "outputs": [],
   "source": [
    "calc['scene'][0]['shape']['geometry'] = 'point'"
   ]
  },
  {
   "cell_type": "code",
   "execution_count": null,
   "metadata": {
    "collapsed": true
   },
   "outputs": [],
   "source": [
    "calc['scene'][0]['shape']['geometry'] = 'gaussian2d'\n",
    "calc['scene'][0]['shape']['major'] = 0.5 # arcsec\n",
    "calc['scene'][0]['shape']['minor'] = 0.2 # arcsec\n",
    "calc['scene'][0]['shape']['norm_method'] = 'integ_infinity'\n",
    "calc['scene'][0]['shape']['surf_area_units'] = None"
   ]
  },
  {
   "cell_type": "code",
   "execution_count": null,
   "metadata": {
    "collapsed": true
   },
   "outputs": [],
   "source": [
    "calc['scene'][0]['shape']['geometry'] = 'flat'\n",
    "calc['scene'][0]['shape']['major'] = 0.5 # arcsec\n",
    "calc['scene'][0]['shape']['minor'] = 0.2 # arcsec\n",
    "calc['scene'][0]['shape']['norm_method'] = 'surf_center'\n",
    "calc['scene'][0]['shape']['surf_area_units'] = 'arcsec^2'"
   ]
  },
  {
   "cell_type": "code",
   "execution_count": null,
   "metadata": {
    "collapsed": true
   },
   "outputs": [],
   "source": [
    "calc['scene'][0]['shape']['geometry'] = 'sersic'\n",
    "calc['scene'][0]['shape']['major'] = 0.5 # arcsec\n",
    "calc['scene'][0]['shape']['minor'] = 0.2 # arcsec\n",
    "calc['scene'][0]['shape']['sersic_index'] = 1.0\n",
    "calc['scene'][0]['shape']['norm_method'] = 'surf_scale'\n",
    "calc['scene'][0]['shape']['surf_area_units'] = 'sr'"
   ]
  },
  {
   "cell_type": "markdown",
   "metadata": {},
   "source": [
    "We can also position the source: (though orientation obviously means little to a point source)"
   ]
  },
  {
   "cell_type": "code",
   "execution_count": null,
   "metadata": {
    "collapsed": true
   },
   "outputs": [],
   "source": [
    "calc['scene'][0]['position']['x_offset'] = 0.0 # arcsec\n",
    "calc['scene'][0]['position']['y_offset'] = 0.0 # arcsec\n",
    "calc['scene'][0]['position']['orientation'] = 45.0 # degrees"
   ]
  },
  {
   "cell_type": "markdown",
   "metadata": {},
   "source": [
    "You can also add other sources, and customize them."
   ]
  },
  {
   "cell_type": "code",
   "execution_count": null,
   "metadata": {
    "collapsed": true
   },
   "outputs": [],
   "source": [
    "calc['scene'].append(build_default_source(geometry=\"point\"))"
   ]
  },
  {
   "cell_type": "markdown",
   "metadata": {},
   "source": [
    "# Now let's set up the instrument"
   ]
  },
  {
   "cell_type": "markdown",
   "metadata": {},
   "source": [
    "For the WFIRST Imager:\n",
    "\n",
    "- Filters (For the WFIRST imager)\n",
    "   - z087 (Z-band 0.87 microns) - the default\n",
    "   - y106 (Y-band 1.06 microns)\n",
    "   - j129 (J-band 1.29 microns)\n",
    "   - w149 (w-band 1.49 microns)\n",
    "   - h158 (H-band 1.58 microns)\n",
    "   - f184 (f-band 1.84 microns)\n",
    "   \n",
    "There are no valid dispersive elements, and only one aperture: 'any'.\n",
    "\n",
    "The detector can be configured to give multiple exposures in multiple groups and integrations, and set the readmode. For the WFIRST imager, there are a number of readmodes:\n",
    "\n",
    "- Readmodes:\n",
    "   - 'rapid'\n",
    "   - 'shallow2'\n",
    "   - 'shallow4'\n",
    "   - 'bright1'\n",
    "   - 'bright2'\n",
    "   - 'medium2'\n",
    "   - 'medium8'\n",
    "   - 'deep2' - the default\n",
    "   - 'deep8'\n",
    "\n",
    "- And a number of subarrays:\n",
    "   - '32x32'\n",
    "   - '64x64'\n",
    "   - '128x128'\n",
    "   - '256x256'\n",
    "   - '512x512'\n",
    "   - '1024x1024'\n",
    "   - '1024x16'\n",
    "   - 'full' (4096x4096) - the default"
   ]
  },
  {
   "cell_type": "code",
   "execution_count": null,
   "metadata": {
    "collapsed": true
   },
   "outputs": [],
   "source": [
    "calc['configuration']['instrument']['filter'] = \"z087\"\n",
    "calc['configuration']['instrument']['apertures'] = \"any\"\n",
    "calc['configuration']['instrument']['dispersers'] = None\n",
    "calc['configuration']['detector']['ngroup'] = 10 # groups per integration\n",
    "calc['configuration']['detector']['nint'] = 10 # integrations per exposure\n",
    "calc['configuration']['detector']['nexp'] = 1 # exposures\n",
    "calc['configuration']['detector']['readmode'] = \"rapid\"\n",
    "calc['configuration']['detector']['subarray'] = \"full\""
   ]
  },
  {
   "cell_type": "markdown",
   "metadata": {},
   "source": [
    "For the WFIRST IFU, there is much less to configure.\n",
    "The only valid filter is \"clear\", to be used with the \"prism\" disperser in the \"ifu\" aperture, and \"full\" subarray. You can select between 'nrs' (the default) and 'nrsrapid' readmodes"
   ]
  },
  {
   "cell_type": "code",
   "execution_count": null,
   "metadata": {
    "collapsed": true
   },
   "outputs": [],
   "source": [
    "calc['configuration']['instrument']['filter'] = \"clear\"\n",
    "calc['configuration']['instrument']['apertures'] = \"ifu\"\n",
    "calc['configuration']['instrument']['dispersers'] = \"prism\"\n",
    "calc['configuration']['detector']['ngroup'] = 10 # groups per integration\n",
    "calc['configuration']['detector']['nint'] = 10 # integrations per exposures\n",
    "calc['configuration']['detector']['nexp'] = 1 # exposures\n",
    "calc['configuration']['detector']['readmode'] = \"nrs\"\n",
    "calc['configuration']['detector']['subarray'] = \"full\""
   ]
  },
  {
   "cell_type": "markdown",
   "metadata": {},
   "source": [
    "# We can now set the strategy. \n",
    "\n",
    "For the WFIRST imager, the only potential option is to modify the target source and target location to point to a source that's been offset."
   ]
  },
  {
   "cell_type": "code",
   "execution_count": null,
   "metadata": {
    "collapsed": true
   },
   "outputs": [],
   "source": [
    "calc['strategy']['target_source'] = 1\n",
    "calc['strategy']['target_xy'] = [0.0,0.0]"
   ]
  },
  {
   "cell_type": "markdown",
   "metadata": {},
   "source": [
    "For WFIRST IFU, there are three different observation strategies:\n",
    "    - 'ifuapphot': IFU Aperture Photometry - the default\n",
    "    - 'ifunodinscene': IFU Nod (in-scene)\n",
    "    - 'ifunodoffscene': IFU Nod (off-scene)\n",
    "    \n",
    "For the IFU nod modes, you can set the dithers. For ifunodinscene, the values should be small- less than 5 arcsec. For ifunodinscene, it should be more than 10 arcsec. Note that we don't currently shift to add the dithers; this is a limitation of Pandeia as it currently stands. "
   ]
  },
  {
   "cell_type": "code",
   "execution_count": null,
   "metadata": {
    "collapsed": true
   },
   "outputs": [],
   "source": [
    "calc['strategy']['target_source']['method'] = 'ifunodinscene'\n",
    "calc['strategy']['target_source']['target_source'] = 1\n",
    "calc['strategy']['target_source']['target_xy'] = [0.0,0.0]\n",
    "calc['strategy']['target_source']['dithers'] = [{'x':0.0,'y':0.0},{'x':1.0,'y':1.0}]"
   ]
  },
  {
   "cell_type": "markdown",
   "metadata": {},
   "source": [
    "# Calculate!\n",
    "\n",
    "Still with us? We now have a formatted calculation we can run, so let's do that."
   ]
  },
  {
   "cell_type": "code",
   "execution_count": null,
   "metadata": {
    "collapsed": true
   },
   "outputs": [],
   "source": [
    "results = perform_calculation(calc)\n",
    "fits = perform_calculation(calc,dict_report=False)"
   ]
  },
  {
   "cell_type": "markdown",
   "metadata": {},
   "source": [
    "Let's unpack all the results.  Run the following to see the basic outputs - flux, SNR, exposure time, etc."
   ]
  },
  {
   "cell_type": "code",
   "execution_count": null,
   "metadata": {
    "collapsed": true
   },
   "outputs": [],
   "source": [
    "for x in results['scalar'].keys():\n",
    "   print(\"{0:}: {1:}\".format(x,results['scalar'][x]))"
   ]
  },
  {
   "cell_type": "markdown",
   "metadata": {},
   "source": [
    "Let's also look at some plots. Here are the detector SNR, signal, and saturation"
   ]
  },
  {
   "cell_type": "code",
   "execution_count": null,
   "metadata": {
    "collapsed": true
   },
   "outputs": [],
   "source": [
    "fig1 = plt.figure()\n",
    "ax1 = fig1.add_subplot(131)\n",
    "ax2 = fig1.add_subplot(132)\n",
    "ax3 = fig1.add_subplot(133)\n",
    "ax1.imshow(results['2d']['snr'])\n",
    "ax2.imshow(results['2d']['detector'])\n",
    "ax3.imshow(results['2d']['saturation'])\n",
    "ax1.set_title('SNR')\n",
    "ax2.set_title('Detector')\n",
    "ax3.set_title('Saturation')\n",
    "ax1.text(0.5,0.95,'{0:6.5f}'.format(np.max(results['2d']['snr'])),horizontalalignment='center',transform=ax1.transAxes,color='#FFFFFF')\n",
    "ax1.text(0.5,0.05,'{0:6.5f}'.format(np.min(results['2d']['snr'])),horizontalalignment='center',transform=ax1.transAxes,color='#FFFFFF')\n",
    "ax2.text(0.5,0.95,'{0:6.5f}'.format(np.max(results['2d']['detector'])),horizontalalignment='center',transform=ax2.transAxes,color='#FFFFFF')\n",
    "ax2.text(0.5,0.05,'{0:6.5f}'.format(np.min(results['2d']['detector'])),horizontalalignment='center',transform=ax2.transAxes,color='#FFFFFF')\n",
    "ax3.text(0.5,0.95,'{0:6.5f}'.format(np.max(results['2d']['saturation'])),horizontalalignment='center',transform=ax3.transAxes,color='#FFFFFF')\n",
    "ax3.text(0.5,0.05,'{0:6.5f}'.format(np.min(results['2d']['saturation'])),horizontalalignment='center',transform=ax3.transAxes,color='#FFFFFF')"
   ]
  },
  {
   "cell_type": "markdown",
   "metadata": {},
   "source": [
    "We can also see some 1D plots. They won't look like much in Imager mode."
   ]
  },
  {
   "cell_type": "code",
   "execution_count": null,
   "metadata": {
    "collapsed": true
   },
   "outputs": [],
   "source": [
    "fig2 = plt.figure()\n",
    "ax1 = fig2.add_subplot(131)\n",
    "ax2 = fig2.add_subplot(132)\n",
    "ax3 = fig2.add_subplot(133)\n",
    "if len(results['1d']['sn'][0]) == 1:\n",
    "    ax1.scatter(results['1d']['sn'][0],results['1d']['sn'][1])\n",
    "    ax2.scatter(results['1d']['extracted_flux_plus_bg'][0],results['1d']['extracted_flux_plus_bg'][1])\n",
    "    ax3.scatter(results['1d']['extracted_flux'][0],results['1d']['extracted_flux'][1])\n",
    "else:\n",
    "    ax1.plot(results['1d']['sn'][0],results['1d']['sn'][1])\n",
    "    ax2.plot(results['1d']['extracted_flux_plus_bg'][0],results['1d']['extracted_flux_plus_bg'][1])\n",
    "    ax3.plot(results['1d']['extracted_flux'][0],results['1d']['extracted_flux'][1])\n",
    "ax1.set_title('SNR')\n",
    "ax2.set_title('Extracted Flux w/ Bkgd')\n",
    "ax3.set_title('Extracted Flux w/o Bkgd')"
   ]
  },
  {
   "cell_type": "markdown",
   "metadata": {},
   "source": [
    "If you want to save your calculation, you can run the next cell, and copy that into a file:"
   ]
  },
  {
   "cell_type": "code",
   "execution_count": null,
   "metadata": {
    "collapsed": true
   },
   "outputs": [],
   "source": [
    "print(json.dumps(calc, sort_keys=True, indent=4, separators=(',', ': ')))"
   ]
  },
  {
   "cell_type": "code",
   "execution_count": null,
   "metadata": {
    "collapsed": true
   },
   "outputs": [],
   "source": []
  }
 ],
 "metadata": {
  "kernelspec": {
   "display_name": "Python [conda env:pandeia_8]",
   "language": "python",
   "name": "conda-env-pandeia_8-py"
  },
  "language_info": {
   "codemirror_mode": {
    "name": "ipython",
    "version": 2
   },
   "file_extension": ".py",
   "mimetype": "text/x-python",
   "name": "python",
   "nbconvert_exporter": "python",
   "pygments_lexer": "ipython2",
   "version": "2.7.14"
  }
 },
 "nbformat": 4,
 "nbformat_minor": 1
}
